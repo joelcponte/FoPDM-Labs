{
 "cells": [
  {
   "cell_type": "markdown",
   "metadata": {},
   "source": [
    "# Hidden Markov models\n",
    "The Unistroke alphabet, closely related to Graffiti, is an essentially single-stroke shorthand handwriting recognition system used in PDAs. The data set is composed of 50 × 6 time-trajectories representing the drawing of letters A, E, H, L, O and Q in a plane.\n"
   ]
  },
  {
   "cell_type": "markdown",
   "metadata": {},
   "source": [
    "## 4.1 Lab work\n",
    "\n",
    "Here you will focus on discriminating letters A and L, you may ignore the other four letters if you want."
   ]
  },
  {
   "cell_type": "markdown",
   "metadata": {},
   "source": [
    "#### *1. Define an HMC model (number of states, every parameter, ...) and simulate some trajectories, until it resembles letter Λ up to some Gaussian noise. Hint: you may use a differential representation of the signal. If you want to output $\\mathbf{x_1, ... , x_n}$, simulate $\\mathbf{y_1 = x_1 − 0, y_2 = x_2 − x_1, ..., y_2 = x_n − x_{n−1}}$.*"
   ]
  },
  {
   "cell_type": "markdown",
   "metadata": {},
   "source": [
    "We begin by importing all the modules necessary for the whole lab."
   ]
  },
  {
   "cell_type": "code",
   "execution_count": 87,
   "metadata": {
    "collapsed": true
   },
   "outputs": [],
   "source": [
    "import pandas as pd\n",
    "import matplotlib.pyplot as plt\n",
    "import numpy as np\n",
    "from hmmlearn import hmm\n",
    "from sklearn.model_selection import KFold\n",
    "import warnings\n",
    "from msmbuilder.hmm import VonMisesHMM\n",
    "warnings.filterwarnings(\"ignore\")\n",
    "%matplotlib inline"
   ]
  },
  {
   "cell_type": "markdown",
   "metadata": {},
   "source": [
    "Whe choose to pick a model with two states. It seems natural because in our case the letter A is composed by two straight lines plus a noise. It must always start in the first stage, have a small probability of going to the second stage, and never go back. To form the letter A, the first stage should point up and right, and the second stage should point down and right. The covariance matrix must have values small enough so that the noise will not be too strong."
   ]
  },
  {
   "cell_type": "code",
   "execution_count": 3,
   "metadata": {},
   "outputs": [
    {
     "name": "stdout",
     "output_type": "stream",
     "text": [
      "2\n"
     ]
    }
   ],
   "source": [
    "import matplotlib.pyplot as plt\n",
    "import warnings\n",
    "warnings.filterwarnings(\"ignore\")\n",
    "from hmmlearn import hmm\n",
    "\n",
    "model = GaussianHMM(n_components=2, covariance_type=\"full\")\n",
    "model.startprob_ = np.array([1, 0])\n",
    "model.transmat_ = np.array([[0.95, 0.05],\n",
    "                             [0, 1]])\n",
    "model.means_ = np.array([[1.0, 1.0], [1.0, -1.0]])\n",
    "model.covars_ = np.tile(np.identity(2)/10, (2, 1, 1))\n",
    "np.random.seed(5)\n",
    "model._check()\n",
    "Y, Z = model.sample(25)"
   ]
  },
  {
   "cell_type": "markdown",
   "metadata": {},
   "source": [
    "#### *2. Develop some procedure to plot a real trajectory $\\mathbf{X_{n_1} = (x_1, ... , xn) ∈ (R^2)^n}$. Connect successive points with segments, but do not care about potential loss of temporal information in the produced figures. The trajectory will be a reverse letter but you may ignore this too. Include such figure in your report*"
   ]
  },
  {
   "cell_type": "markdown",
   "metadata": {},
   "source": [
    "To plot a trajectory from the y's:"
   ]
  },
  {
   "cell_type": "code",
   "execution_count": 4,
   "metadata": {},
   "outputs": [
    {
     "data": {
      "image/png": "[encoded data removed]",
      "text/plain": [
       "<matplotlib.figure.Figure at 0x10447828>"
      ]
     },
     "metadata": {},
     "output_type": "display_data"
    }
   ],
   "source": [
    "def print_letter_diff(df):\n",
    "    X = np.cumsum(df, axis = 0)\n",
    "    plt.plot(X[:,0], X[:,1])\n",
    "    \n",
    "print_letter_diff(Y)"
   ]
  },
  {
   "cell_type": "markdown",
   "metadata": {},
   "source": [
    "To plot a trajectory from the x's:"
   ]
  },
  {
   "cell_type": "code",
   "execution_count": 5,
   "metadata": {
    "scrolled": true
   },
   "outputs": [
    {
     "data": {
      "text/plain": [
       "[<matplotlib.lines.Line2D at 0x10697f98>]"
      ]
     },
     "execution_count": 5,
     "metadata": {},
     "output_type": "execute_result"
    },
    {
     "data": {
      "image/png": "[encoded data removed]",
      "text/plain": [
       "<matplotlib.figure.Figure at 0x887abe0>"
      ]
     },
     "metadata": {},
     "output_type": "display_data"
    }
   ],
   "source": [
    "a01 = pd.read_csv(\"Unistroke/A01.txt\", \"\\t\")\n",
    "plt.plot(a01.iloc[:,0], a01.iloc[:,1])"
   ]
  },
  {
   "cell_type": "markdown",
   "metadata": {},
   "source": [
    "#### *3. Normalize the trajectories by computing $\\mathbf{y_t = \\frac{x_t − x_{t−1}}{∥xt − xt−1∥^2}}$ for $\\mathbf{t = 2, ... , n}$. Estimate an HMC model with all the normalized trajectories for letter A, using bivariate Gaussian emission distribution. Justify your choice for the number of states. Provide the estimates and comment them.*"
   ]
  },
  {
   "cell_type": "markdown",
   "metadata": {},
   "source": [
    "Let's compute the array that will be input for our HMC model:"
   ]
  },
  {
   "cell_type": "code",
   "execution_count": 88,
   "metadata": {
    "collapsed": true
   },
   "outputs": [],
   "source": [
    "def remove_zero_movements(df):\n",
    "    X_now = df\n",
    "    X_now = X_now.subtract(X_now.shift(1))#.drop(X_now.index[0]) #calculate differences\n",
    "    X_now = np.abs(X_now)\n",
    "    zero_movs = np.where(np.any(np.array([np.sum(X_now, axis = 1)])==0, axis= 0))[0]\n",
    "    zero_movs = zero_movs[1:]\n",
    "#     df = df.drop(df.index[0])\n",
    "    df = df.drop(df.index[zero_movs])\n",
    "    return df"
   ]
  },
  {
   "cell_type": "code",
   "execution_count": 89,
   "metadata": {
    "collapsed": true
   },
   "outputs": [],
   "source": [
    "def create_normalized_difference(X):\n",
    "    X = X.subtract(X.shift(1)).drop(X.index[0]) #calculate differences\n",
    "    X = X.div(np.sqrt((X*X).sum(axis=1)), axis=0)\n",
    "    X = np.array(X)  \n",
    "    return(X)"
   ]
  },
  {
   "cell_type": "code",
   "execution_count": 90,
   "metadata": {
    "collapsed": true
   },
   "outputs": [],
   "source": [
    "def create_gaussian_hmm_training_set(letter, file_indices):\n",
    "    files = [\"Unistroke/\" + letter +str(i).zfill(2)+\".txt\" for i in file_indices] \n",
    "    Xa = np.array([[0,0]])\n",
    "    lengths = np.array([0])\n",
    "\n",
    "    for file in files:\n",
    "        X_now = pd.read_csv(file, \"\\t\")\n",
    "        X_now = remove_zero_movements(X_now)\n",
    "        X_now = create_normalized_difference(X_now)\n",
    "        Xa = np.concatenate([Xa, X_now])\n",
    "        lengths = np.concatenate([lengths, [len(X_now)]])\n",
    "\n",
    "    Xa = np.delete(Xa, (0), axis = 0)\n",
    "    lengths = np.delete(lengths, (0))\n",
    "    return Xa, lengths"
   ]
  },
  {
   "cell_type": "markdown",
   "metadata": {},
   "source": [
    "As we said before, the choice of 2 states comes naturally for this HMC. The drawings are composed of two lines, which we expect to be the two states of the HMC model. This will give us a interpretable model and we will be able to confirm our hypothesized model in the first question"
   ]
  },
  {
   "cell_type": "code",
   "execution_count": 9,
   "metadata": {
    "collapsed": true,
    "scrolled": true
   },
   "outputs": [],
   "source": [
    "X_a, lengths_a = create_gaussian_hmm_training_set(\"A\", range(1,51))\n",
    "hmm_model_a = hmm.GaussianHMM(n_components=2).fit(X_a, lengths_a)  "
   ]
  },
  {
   "cell_type": "markdown",
   "metadata": {},
   "source": [
    "**Initial states:**"
   ]
  },
  {
   "cell_type": "code",
   "execution_count": 10,
   "metadata": {},
   "outputs": [
    {
     "data": {
      "text/plain": [
       "array([ 0.12,  0.88])"
      ]
     },
     "execution_count": 10,
     "metadata": {},
     "output_type": "execute_result"
    }
   ],
   "source": [
    "hmm_model_a.startprob_"
   ]
  },
  {
   "cell_type": "markdown",
   "metadata": {},
   "source": [
    "**Transition matrix:**"
   ]
  },
  {
   "cell_type": "code",
   "execution_count": 11,
   "metadata": {},
   "outputs": [
    {
     "data": {
      "text/plain": [
       "array([[ 0.96341681,  0.03658319],\n",
       "       [ 0.14135932,  0.85864068]])"
      ]
     },
     "execution_count": 11,
     "metadata": {},
     "output_type": "execute_result"
    }
   ],
   "source": [
    "hmm_model_a.transmat_"
   ]
  },
  {
   "cell_type": "markdown",
   "metadata": {},
   "source": [
    "**Means:**"
   ]
  },
  {
   "cell_type": "code",
   "execution_count": 12,
   "metadata": {},
   "outputs": [
    {
     "data": {
      "text/plain": [
       "array([[-0.37377552,  0.85278103],\n",
       "       [-0.44494029, -0.87132413]])"
      ]
     },
     "execution_count": 12,
     "metadata": {},
     "output_type": "execute_result"
    }
   ],
   "source": [
    "hmm_model_a.means_"
   ]
  },
  {
   "cell_type": "markdown",
   "metadata": {},
   "source": [
    "**Covariance Matrices:**"
   ]
  },
  {
   "cell_type": "code",
   "execution_count": 13,
   "metadata": {},
   "outputs": [
    {
     "data": {
      "text/plain": [
       "array([[[ 0.0838,  0.    ],\n",
       "        [ 0.    ,  0.0493]],\n",
       "\n",
       "       [[ 0.0383,  0.    ],\n",
       "        [ 0.    ,  0.0045]]])"
      ]
     },
     "execution_count": 13,
     "metadata": {},
     "output_type": "execute_result"
    }
   ],
   "source": [
    "hmm_model_a.covars_.round(4)"
   ]
  },
  {
   "cell_type": "markdown",
   "metadata": {},
   "source": [
    "We see that we the fitted model is very similar to what we thought before. Of course, the means have different signs because we trained the model with upside-down letters. Also, we thought about +-45 degrees slopes (since we used the same length for the x and y components), which is not what people actually do when writing the letter A. We can see that the mean values for the y-axis are bigger (in absolute value) than for the x-values, which means that the slopes of the line segments that compose the A's are more vertical than previously thought"
   ]
  },
  {
   "cell_type": "markdown",
   "metadata": {},
   "source": [
    "#### *4. Same question as above for letter L. You may use the python hmmlearn or another library of your choice.*"
   ]
  },
  {
   "cell_type": "code",
   "execution_count": 14,
   "metadata": {
    "collapsed": true,
    "scrolled": true
   },
   "outputs": [],
   "source": [
    "X_l, lengths_l = create_gaussian_hmm_training_set(\"L\", range(1,51))\n",
    "hmm_model_l = hmm.GaussianHMM(n_components=2).fit(X_l, lengths_l)  "
   ]
  },
  {
   "cell_type": "markdown",
   "metadata": {},
   "source": [
    "**Initial states:**"
   ]
  },
  {
   "cell_type": "code",
   "execution_count": 15,
   "metadata": {},
   "outputs": [
    {
     "data": {
      "text/plain": [
       "array([ 0.85998433,  0.14001567])"
      ]
     },
     "execution_count": 15,
     "metadata": {},
     "output_type": "execute_result"
    }
   ],
   "source": [
    "hmm_model_l.startprob_"
   ]
  },
  {
   "cell_type": "markdown",
   "metadata": {},
   "source": [
    "**Transition matrix:**"
   ]
  },
  {
   "cell_type": "code",
   "execution_count": 16,
   "metadata": {},
   "outputs": [
    {
     "data": {
      "text/plain": [
       "array([[ 0.85867609,  0.14132391],\n",
       "       [ 0.05163217,  0.94836783]])"
      ]
     },
     "execution_count": 16,
     "metadata": {},
     "output_type": "execute_result"
    }
   ],
   "source": [
    "hmm_model_l.transmat_"
   ]
  },
  {
   "cell_type": "markdown",
   "metadata": {},
   "source": [
    "**Means:**"
   ]
  },
  {
   "cell_type": "code",
   "execution_count": 17,
   "metadata": {},
   "outputs": [
    {
     "data": {
      "text/plain": [
       "array([[ 0.00902734,  0.99660676],\n",
       "       [-0.83222274,  0.06868405]])"
      ]
     },
     "execution_count": 17,
     "metadata": {},
     "output_type": "execute_result"
    }
   ],
   "source": [
    "hmm_model_l.means_"
   ]
  },
  {
   "cell_type": "markdown",
   "metadata": {},
   "source": [
    "**Covariance Matrices:**"
   ]
  },
  {
   "cell_type": "code",
   "execution_count": 18,
   "metadata": {},
   "outputs": [
    {
     "data": {
      "text/plain": [
       "array([[[  6.67989510e-03,   0.00000000e+00],\n",
       "        [  0.00000000e+00,   6.02674693e-05]],\n",
       "\n",
       "       [[  2.23001721e-01,   0.00000000e+00],\n",
       "        [  0.00000000e+00,   7.97318923e-02]]])"
      ]
     },
     "execution_count": 18,
     "metadata": {},
     "output_type": "execute_result"
    }
   ],
   "source": [
    "hmm_model_l.covars_"
   ]
  },
  {
   "cell_type": "markdown",
   "metadata": {},
   "source": [
    "We can see again that the values for the means are what we naturally would expect: a practically vertical and a practically horizontal lines. The covariances in this case have also much smaller coefficients, which could be because the drawing of the letter L is simpler and less prone to noise. Also, for the letter A there is no \"correct slope\". People can draw A's in a lot of different ways and they would still be A's. The letter L is more constrained, given that it has to be composed of a vertical and a horizontal lines."
   ]
  },
  {
   "cell_type": "markdown",
   "metadata": {},
   "source": [
    "#### *5. Use the Viterbi algorithm on A1.txt and plot the unnormalized sequence using different colours for different states.*"
   ]
  },
  {
   "cell_type": "code",
   "execution_count": 19,
   "metadata": {},
   "outputs": [
    {
     "data": {
      "text/plain": [
       "<matplotlib.collections.PathCollection at 0x10a7e470>"
      ]
     },
     "execution_count": 19,
     "metadata": {},
     "output_type": "execute_result"
    },
    {
     "data": {
      "image/png": "[encoded data removed]",
      "text/plain": [
       "<matplotlib.figure.Figure at 0x106a97f0>"
      ]
     },
     "metadata": {},
     "output_type": "display_data"
    }
   ],
   "source": [
    "a01 = pd.read_csv(\"Unistroke/A01.txt\", \"\\t\")\n",
    "a01 = remove_zero_movements(a01)\n",
    "a01diff = create_normalized_difference(a01)\n",
    "color = hmm_model_a.predict(a01diff)\n",
    "\n",
    "plt.scatter(a01.iloc[1:,0], a01.iloc[1:,1], c = color)"
   ]
  },
  {
   "cell_type": "markdown",
   "metadata": {},
   "source": [
    "#### *6. Propose and implement a graphical (visual) method to validate the assumption of bivariate Gaussian emission distribution. What to think about this assumption?*"
   ]
  },
  {
   "cell_type": "markdown",
   "metadata": {},
   "source": [
    "A good way to evaluate the assumption is by looking at the scatter plot of the data with the colors indicating the states and also by looking at the X and Y histograms for the different states. On top of those, we overlapped the distributions given by the trained models and compared those. "
   ]
  },
  {
   "cell_type": "markdown",
   "metadata": {},
   "source": [
    "We can immediately see below that the distributions of the data do not look like Gaussian distributions. Except maybe by the purple class for the letter L. By looking at the histograms, in A we see patterns a bit closer to Gaussians, but for L they are extremely distinct. We therefore conclude that the assumption is not good."
   ]
  },
  {
   "cell_type": "code",
   "execution_count": 20,
   "metadata": {
    "collapsed": true,
    "scrolled": true
   },
   "outputs": [],
   "source": [
    "files  = [\"Unistroke/A\"+str(i).zfill(2)+\".txt\" for i in range(1,51)] \n",
    "X = np.array([[0,0]])\n",
    "Y = np.array([[0,0]])\n",
    "colors = np.array([0])\n",
    "for file in files:\n",
    "    X_now = pd.read_csv(file, \"\\t\")\n",
    "    X_now = remove_zero_movements(X_now)\n",
    "    Y_now = create_normalized_difference(X_now)\n",
    "    color = hmm_model_a.predict(Y_now)\n",
    "    X = np.concatenate([X, X_now.iloc[1:,:]])\n",
    "    Y = np.concatenate([Y, Y_now])\n",
    "    colors = np.concatenate([colors, color])\n",
    "X = X[1:]\n",
    "Y = Y[1:]\n",
    "colors = colors[1:]\n",
    "# Xl = np.delete(Xl, (0), axis = 0)\n",
    "# colors = np.delete(colors, (0))"
   ]
  },
  {
   "cell_type": "code",
   "execution_count": 21,
   "metadata": {
    "scrolled": true
   },
   "outputs": [
    {
     "data": {
      "text/plain": [
       "Text(0.5,1,u'All the data from letters A and their states by HMM \\n with bivariate Gaussian emission distribution')"
      ]
     },
     "execution_count": 21,
     "metadata": {},
     "output_type": "execute_result"
    },
    {
     "data": {
      "image/png": "[encoded data removed]",
      "text/plain": [
       "<matplotlib.figure.Figure at 0x887a668>"
      ]
     },
     "metadata": {},
     "output_type": "display_data"
    }
   ],
   "source": [
    "import matplotlib\n",
    "import numpy as np\n",
    "import matplotlib.cm as cm\n",
    "import matplotlib.mlab as mlab\n",
    "import matplotlib.pyplot as plt\n",
    "\n",
    "delta = 0.025\n",
    "x = np.arange(-1.0, 1.0, delta)\n",
    "y = np.arange(-1.0, 1.0, delta)\n",
    "X, Y2 = np.meshgrid(x, y)\n",
    "Z1 = mlab.bivariate_normal(X, Y2, np.sqrt(hmm_model_a.covars_[0][0][0]), np.sqrt(hmm_model_a.covars_[0][1][1]), hmm_model_a.means_[0][0], hmm_model_a.means_[0][1])\n",
    "Z2 = mlab.bivariate_normal(X, Y2, np.sqrt(hmm_model_a.covars_[1][0][0]), np.sqrt(hmm_model_a.covars_[1][1][1]), hmm_model_a.means_[1][0], hmm_model_a.means_[1][1])\n",
    "# difference of Gaussians\n",
    "Z = (Z2 + Z1)\n",
    "\n",
    "plt.figure()\n",
    "CS = plt.contour(X, Y2, Z)\n",
    "\n",
    "plt.scatter(Y[:,0],Y[:,1], c = colors)\n",
    "plt.title(\"All the data from letters A and their states by HMM \\n with bivariate Gaussian emission distribution\")"
   ]
  },
  {
   "cell_type": "code",
   "execution_count": 22,
   "metadata": {},
   "outputs": [
    {
     "data": {
      "text/plain": [
       "Text(0.5,1,u'A - Histogram of x-axis for state 1')"
      ]
     },
     "execution_count": 22,
     "metadata": {},
     "output_type": "execute_result"
    },
    {
     "data": {
      "image/png": "[encoded data removed]",
      "text/plain": [
       "<matplotlib.figure.Figure at 0x10ad81d0>"
      ]
     },
     "metadata": {},
     "output_type": "display_data"
    }
   ],
   "source": [
    "plt.hist(Y[colors == 0,0], bins = 50)\n",
    "mu = hmm_model_a.means_[0][0]\n",
    "variance =  np.sqrt(hmm_model_a.covars_[0][0][0])\n",
    "sigma = np.sqrt(variance)\n",
    "x = np.linspace(mu - 2*sigma, mu + 2*sigma, 100)\n",
    "plt.plot(x,100*mlab.normpdf(x, mu, sigma))\n",
    "plt.title(\"A - Histogram of x-axis for state 1\")"
   ]
  },
  {
   "cell_type": "code",
   "execution_count": 23,
   "metadata": {
    "scrolled": false
   },
   "outputs": [
    {
     "data": {
      "text/plain": [
       "Text(0.5,1,u'A - Histogram of y-axis for state 1')"
      ]
     },
     "execution_count": 23,
     "metadata": {},
     "output_type": "execute_result"
    },
    {
     "data": {
      "image/png": "[encoded data removed]",
      "text/plain": [
       "<matplotlib.figure.Figure at 0x1087b128>"
      ]
     },
     "metadata": {},
     "output_type": "display_data"
    }
   ],
   "source": [
    "plt.hist(Y[colors == 0,1], bins = 30)\n",
    "mu = hmm_model_a.means_[0][1]\n",
    "variance =  np.sqrt(hmm_model_a.covars_[0][1][1])\n",
    "sigma = np.sqrt(variance)\n",
    "x = np.linspace(mu - 2*sigma, mu + 2*sigma, 100)\n",
    "plt.plot(x,100*mlab.normpdf(x, mu, sigma))\n",
    "plt.title(\"A - Histogram of y-axis for state 1\")"
   ]
  },
  {
   "cell_type": "code",
   "execution_count": 24,
   "metadata": {},
   "outputs": [
    {
     "data": {
      "text/plain": [
       "Text(0.5,1,u'A - Histogram of x-axis for state 2')"
      ]
     },
     "execution_count": 24,
     "metadata": {},
     "output_type": "execute_result"
    },
    {
     "data": {
      "image/png": "[encoded data removed]",
      "text/plain": [
       "<matplotlib.figure.Figure at 0x110dee10>"
      ]
     },
     "metadata": {},
     "output_type": "display_data"
    }
   ],
   "source": [
    "plt.hist(Y[colors == 1,0], bins = 50)\n",
    "mu = hmm_model_a.means_[1][0]\n",
    "variance =  np.sqrt(hmm_model_a.covars_[1][0][0])\n",
    "sigma = np.sqrt(variance)\n",
    "x = np.linspace(mu - 2*sigma, mu + 2*sigma, 100)\n",
    "plt.plot(x,50*mlab.normpdf(x, mu, sigma))\n",
    "plt.title(\"A - Histogram of x-axis for state 2\")"
   ]
  },
  {
   "cell_type": "code",
   "execution_count": 25,
   "metadata": {},
   "outputs": [
    {
     "data": {
      "text/plain": [
       "Text(0.5,1,u'A - Histogram of y-axis for state 2')"
      ]
     },
     "execution_count": 25,
     "metadata": {},
     "output_type": "execute_result"
    },
    {
     "data": {
      "image/png": "[encoded data removed]",
      "text/plain": [
       "<matplotlib.figure.Figure at 0x12fde320>"
      ]
     },
     "metadata": {},
     "output_type": "display_data"
    }
   ],
   "source": [
    "plt.hist(Y[colors == 1,1], bins = 30)\n",
    "mu = hmm_model_a.means_[1][1]\n",
    "variance =  np.sqrt(hmm_model_a.covars_[1][1][1])\n",
    "sigma = np.sqrt(variance)\n",
    "x = np.linspace(mu - 2*sigma, mu + 2*sigma, 100)\n",
    "plt.plot(x,10*mlab.normpdf(x, mu, sigma))\n",
    "plt.title(\"A - Histogram of y-axis for state 2\")"
   ]
  },
  {
   "cell_type": "code",
   "execution_count": 26,
   "metadata": {
    "collapsed": true
   },
   "outputs": [],
   "source": [
    "files  = [\"Unistroke/L\"+str(i).zfill(2)+\".txt\" for i in range(1,51)] \n",
    "X = np.array([[0,0]])\n",
    "Y = np.array([[0,0]])\n",
    "colors = np.array([0])\n",
    "for file in files:\n",
    "    X_now = pd.read_csv(file, \"\\t\")\n",
    "    X_now = remove_zero_movements(X_now)\n",
    "    Y_now = create_normalized_difference(X_now)\n",
    "    color = hmm_model_l.predict(Y_now)\n",
    "    X = np.concatenate([X, X_now.iloc[1:,:]])\n",
    "    Y = np.concatenate([Y, Y_now])\n",
    "    colors = np.concatenate([colors, color])\n",
    "X = X[1:]\n",
    "Y = Y[1:]\n",
    "colors = colors[1:]\n",
    "# Xl = np.delete(Xl, (0), axis = 0)\n",
    "# colors = np.delete(colors, (0))"
   ]
  },
  {
   "cell_type": "code",
   "execution_count": 27,
   "metadata": {},
   "outputs": [
    {
     "data": {
      "text/plain": [
       "Text(0.5,1,u'All the data from letters L and their states by HMM \\n with bivariate Gaussian emission distribution')"
      ]
     },
     "execution_count": 27,
     "metadata": {},
     "output_type": "execute_result"
    },
    {
     "data": {
      "image/png": "[encoded data removed]",
      "text/plain": [
       "<matplotlib.figure.Figure at 0x1067d4e0>"
      ]
     },
     "metadata": {},
     "output_type": "display_data"
    }
   ],
   "source": [
    "delta = 0.025\n",
    "x = np.arange(-1.0, 1.0, delta)\n",
    "y = np.arange(-1.0, 1.0, delta)\n",
    "X, Y2 = np.meshgrid(x, y)\n",
    "Z1 = mlab.bivariate_normal(X, Y2, np.sqrt(hmm_model_l.covars_[0][0][0]), np.sqrt(hmm_model_l.covars_[0][1][1]), hmm_model_l.means_[0][0], hmm_model_l.means_[0][1])\n",
    "Z2 = mlab.bivariate_normal(X, Y2, np.sqrt(hmm_model_l.covars_[1][0][0]), np.sqrt(hmm_model_l.covars_[1][1][1]), hmm_model_l.means_[1][0], hmm_model_l.means_[1][1])\n",
    "# difference of Gaussians\n",
    "Z = (Z2 + Z1)\n",
    "\n",
    "plt.figure()\n",
    "CS = plt.contour(X, Y2, Z)\n",
    "plt.scatter(Y[:,0],Y[:,1], c = colors)\n",
    "          \n",
    "plt.title(\"All the data from letters L and their states by HMM \\n with bivariate Gaussian emission distribution\")"
   ]
  },
  {
   "cell_type": "code",
   "execution_count": 28,
   "metadata": {},
   "outputs": [
    {
     "data": {
      "text/plain": [
       "Text(0.5,1,u'L - Histogram of x-axis for state 1')"
      ]
     },
     "execution_count": 28,
     "metadata": {},
     "output_type": "execute_result"
    },
    {
     "data": {
      "image/png": "[encoded data removed]",
      "text/plain": [
       "<matplotlib.figure.Figure at 0x132de390>"
      ]
     },
     "metadata": {},
     "output_type": "display_data"
    }
   ],
   "source": [
    "plt.hist(Y[colors == 0,0], bins = 50)\n",
    "mu = hmm_model_l.means_[0][0]\n",
    "variance =  np.sqrt(hmm_model_l.covars_[0][0][0])\n",
    "sigma = np.sqrt(variance)\n",
    "x = np.linspace(mu - 2*sigma, mu + 2*sigma, 100)\n",
    "plt.plot(x,100*mlab.normpdf(x, mu, sigma))\n",
    "plt.title(\"L - Histogram of x-axis for state 1\")"
   ]
  },
  {
   "cell_type": "code",
   "execution_count": 29,
   "metadata": {},
   "outputs": [
    {
     "data": {
      "text/plain": [
       "Text(0.5,1,u'L - Histogram of y-axis for state 1')"
      ]
     },
     "execution_count": 29,
     "metadata": {},
     "output_type": "execute_result"
    },
    {
     "data": {
      "image/png": "[encoded data removed]",
      "text/plain": [
       "<matplotlib.figure.Figure at 0x13728080>"
      ]
     },
     "metadata": {},
     "output_type": "display_data"
    }
   ],
   "source": [
    "plt.hist(Y[colors == 0,1], bins = 30)\n",
    "mu = hmm_model_l.means_[0][1]\n",
    "variance =  np.sqrt(hmm_model_l.covars_[0][1][1])\n",
    "sigma = np.sqrt(variance)\n",
    "x = np.linspace(mu - 1*sigma, mu + 1*sigma, 100)\n",
    "plt.plot(x,10*mlab.normpdf(x, mu, sigma))\n",
    "plt.title(\"L - Histogram of y-axis for state 1\")"
   ]
  },
  {
   "cell_type": "code",
   "execution_count": 30,
   "metadata": {},
   "outputs": [
    {
     "data": {
      "text/plain": [
       "Text(0.5,1,u'L - Histogram of x-axis for state 2')"
      ]
     },
     "execution_count": 30,
     "metadata": {},
     "output_type": "execute_result"
    },
    {
     "data": {
      "image/png": "[encoded data removed]",
      "text/plain": [
       "<matplotlib.figure.Figure at 0x13a6a940>"
      ]
     },
     "metadata": {},
     "output_type": "display_data"
    }
   ],
   "source": [
    "plt.hist(Y[colors == 1,0], bins = 50)\n",
    "mu = hmm_model_l.means_[1][0]\n",
    "variance =  np.sqrt(hmm_model_l.covars_[1][0][0])\n",
    "sigma = np.sqrt(variance)\n",
    "x = np.linspace(mu - 2*sigma, mu + 2*sigma, 100)\n",
    "plt.plot(x,100*mlab.normpdf(x, mu, sigma))\n",
    "plt.title(\"L - Histogram of x-axis for state 2\")"
   ]
  },
  {
   "cell_type": "code",
   "execution_count": 31,
   "metadata": {},
   "outputs": [
    {
     "data": {
      "text/plain": [
       "Text(0.5,1,u'L - Histogram of y-axis for state 2')"
      ]
     },
     "execution_count": 31,
     "metadata": {},
     "output_type": "execute_result"
    },
    {
     "data": {
      "image/png": "[encoded data removed]",
      "text/plain": [
       "<matplotlib.figure.Figure at 0x1064b240>"
      ]
     },
     "metadata": {},
     "output_type": "display_data"
    }
   ],
   "source": [
    "plt.hist(Y[colors == 1,1], bins = 30)\n",
    "mu = hmm_model_l.means_[1][1]\n",
    "variance =  np.sqrt(hmm_model_l.covars_[1][1][1])\n",
    "sigma = np.sqrt(variance)\n",
    "x = np.linspace(mu - 2*sigma, mu + 2*sigma, 100)\n",
    "plt.plot(x,100*mlab.normpdf(x, mu, sigma))\n",
    "plt.title(\"L - Histogram of y-axis for state 2\")"
   ]
  },
  {
   "cell_type": "markdown",
   "metadata": {},
   "source": [
    "### 4.2 Mandatory additional questions\n",
    "The aim of this part is to compare von Mises and Gaussian emission distributions."
   ]
  },
  {
   "cell_type": "markdown",
   "metadata": {},
   "source": [
    "##### 1. Transform the data to angular data. Implement von Mises emission distributions (including formal computations into the report) and compare the results with bivariate Gaussians."
   ]
  },
  {
   "cell_type": "code",
   "execution_count": 32,
   "metadata": {
    "collapsed": true
   },
   "outputs": [],
   "source": [
    "def create_gaussian_hmm_training_set(letter, file_indices):\n",
    "    files = [\"Unistroke/\" + letter +str(i).zfill(2)+\".txt\" for i in file_indices] \n",
    "    Xa = np.array([[0,0]])\n",
    "    lengths = np.array([0])\n",
    "\n",
    "    for file in files:\n",
    "        X_now = pd.read_csv(file, \"\\t\")\n",
    "        X_now = remove_zero_movements(X_now)\n",
    "        X_now = create_normalized_difference(X_now)\n",
    "        Xa = np.concatenate([Xa, X_now])\n",
    "        lengths = np.concatenate([lengths, [len(X_now)]])\n",
    "\n",
    "    Xa = np.delete(Xa, (0), axis = 0)\n",
    "    lengths = np.delete(lengths, (0))\n",
    "    return Xa, lengths"
   ]
  },
  {
   "cell_type": "code",
   "execution_count": 33,
   "metadata": {
    "collapsed": true
   },
   "outputs": [],
   "source": [
    "def create_vonmises_hmm_training_set(letter, file_indices):\n",
    "    files = [\"Unistroke/\" + letter +str(i).zfill(2)+\".txt\" for i in file_indices] \n",
    "    X = []\n",
    "    lengths = np.array([0])\n",
    "\n",
    "    for file in files:\n",
    "        X_now = pd.read_csv(file, \"\\t\")\n",
    "        X_now = remove_zero_movements(X_now)\n",
    "        X_now = create_normalized_difference(X_now)\n",
    "        X_now = np.arctan2(X_now[:,1], X_now[:,0])\n",
    "        X_now = X_now.reshape((-1,1))\n",
    "        X.append(X_now)\n",
    "\n",
    "    return X"
   ]
  },
  {
   "cell_type": "markdown",
   "metadata": {},
   "source": [
    "### Letter A"
   ]
  },
  {
   "cell_type": "code",
   "execution_count": 34,
   "metadata": {},
   "outputs": [
    {
     "data": {
      "text/plain": [
       "<msmbuilder.hmm.vonmises.VonMisesHMM at 0x103b05a0>"
      ]
     },
     "execution_count": 34,
     "metadata": {},
     "output_type": "execute_result"
    }
   ],
   "source": [
    "X_a_vm = create_vonmises_hmm_training_set(\"A\", range(1,51))\n",
    "hmm_vm_a = VonMisesHMM(n_states = 2)\n",
    "hmm_vm_a.fit(X_a_vm)"
   ]
  },
  {
   "cell_type": "markdown",
   "metadata": {},
   "source": [
    "**Initial states:**"
   ]
  },
  {
   "cell_type": "code",
   "execution_count": 35,
   "metadata": {},
   "outputs": [
    {
     "data": {
      "text/plain": [
       "array([ 0.80544268,  0.19455732])"
      ]
     },
     "execution_count": 35,
     "metadata": {},
     "output_type": "execute_result"
    }
   ],
   "source": [
    "hmm_vm_a.populations_"
   ]
  },
  {
   "cell_type": "markdown",
   "metadata": {},
   "source": [
    "**Transition matrix:**"
   ]
  },
  {
   "cell_type": "code",
   "execution_count": 36,
   "metadata": {},
   "outputs": [
    {
     "data": {
      "text/plain": [
       "array([[ 0.96618469,  0.03381531],\n",
       "       [ 0.13999111,  0.86000889]])"
      ]
     },
     "execution_count": 36,
     "metadata": {},
     "output_type": "execute_result"
    }
   ],
   "source": [
    "hmm_vm_a.transmat_"
   ]
  },
  {
   "cell_type": "markdown",
   "metadata": {},
   "source": [
    "**Means: **"
   ]
  },
  {
   "cell_type": "code",
   "execution_count": 37,
   "metadata": {},
   "outputs": [
    {
     "data": {
      "text/plain": [
       "array([[ 1.98020124],\n",
       "       [-2.05350566]], dtype=float32)"
      ]
     },
     "execution_count": 37,
     "metadata": {},
     "output_type": "execute_result"
    }
   ],
   "source": [
    "hmm_vm_a.means_"
   ]
  },
  {
   "cell_type": "code",
   "execution_count": 38,
   "metadata": {},
   "outputs": [
    {
     "data": {
      "text/plain": [
       "(-1, 1)"
      ]
     },
     "execution_count": 38,
     "metadata": {},
     "output_type": "execute_result"
    },
    {
     "data": {
      "image/png": "[encoded data removed]",
      "text/plain": [
       "<matplotlib.figure.Figure at 0x13e1d390>"
      ]
     },
     "metadata": {},
     "output_type": "display_data"
    }
   ],
   "source": [
    "plt.plot([0, np.cos(hmm_vm_a.means_)[0]], [0, np.sin(hmm_vm_a.means_)[0]])\n",
    "plt.plot([0, np.cos(hmm_vm_a.means_)[1]], [0, np.sin(hmm_vm_a.means_)[1]])\n",
    "t = np.linspace(0,np.pi*2,100)\n",
    "plt.plot(np.cos(t), np.sin(t), linewidth=1)\n",
    "plt.title(\"Direction of means for letter A\")\n",
    "plt.xlim((-1,1))\n",
    "plt.ylim((-1,1))"
   ]
  },
  {
   "cell_type": "markdown",
   "metadata": {},
   "source": [
    "**Kappas:**"
   ]
  },
  {
   "cell_type": "code",
   "execution_count": 39,
   "metadata": {
    "scrolled": true
   },
   "outputs": [
    {
     "data": {
      "text/plain": [
       "array([[  6.13578059],\n",
       "       [ 34.55107525]])"
      ]
     },
     "execution_count": 39,
     "metadata": {},
     "output_type": "execute_result"
    }
   ],
   "source": [
    "hmm_vm_a.kappas_"
   ]
  },
  {
   "cell_type": "markdown",
   "metadata": {},
   "source": [
    "### Letter L"
   ]
  },
  {
   "cell_type": "code",
   "execution_count": 40,
   "metadata": {},
   "outputs": [
    {
     "data": {
      "text/plain": [
       "<msmbuilder.hmm.vonmises.VonMisesHMM at 0x103b0f20>"
      ]
     },
     "execution_count": 40,
     "metadata": {},
     "output_type": "execute_result"
    }
   ],
   "source": [
    "X_l_vm = create_vonmises_hmm_training_set(\"L\", range(1,51))\n",
    "hmm_vm_l = VonMisesHMM(n_states = 2)\n",
    "hmm_vm_l.fit(X_l_vm)"
   ]
  },
  {
   "cell_type": "markdown",
   "metadata": {},
   "source": [
    "**Initial states:**"
   ]
  },
  {
   "cell_type": "code",
   "execution_count": 41,
   "metadata": {},
   "outputs": [
    {
     "data": {
      "text/plain": [
       "array([ 0.81965271,  0.18034729])"
      ]
     },
     "execution_count": 41,
     "metadata": {},
     "output_type": "execute_result"
    }
   ],
   "source": [
    "hmm_vm_l.populations_"
   ]
  },
  {
   "cell_type": "markdown",
   "metadata": {},
   "source": [
    "**Transition matrix:**"
   ]
  },
  {
   "cell_type": "code",
   "execution_count": 42,
   "metadata": {},
   "outputs": [
    {
     "data": {
      "text/plain": [
       "array([[ 0.97356159,  0.02643841],\n",
       "       [ 0.12015879,  0.87984121]])"
      ]
     },
     "execution_count": 42,
     "metadata": {},
     "output_type": "execute_result"
    }
   ],
   "source": [
    "hmm_vm_l.transmat_"
   ]
  },
  {
   "cell_type": "markdown",
   "metadata": {},
   "source": [
    "**Means: **"
   ]
  },
  {
   "cell_type": "code",
   "execution_count": 43,
   "metadata": {},
   "outputs": [
    {
     "data": {
      "text/plain": [
       "array([[ 3.07094002],\n",
       "       [ 1.55680788]], dtype=float32)"
      ]
     },
     "execution_count": 43,
     "metadata": {},
     "output_type": "execute_result"
    }
   ],
   "source": [
    "hmm_vm_l.means_"
   ]
  },
  {
   "cell_type": "code",
   "execution_count": 44,
   "metadata": {
    "scrolled": true
   },
   "outputs": [
    {
     "data": {
      "text/plain": [
       "(-1, 1)"
      ]
     },
     "execution_count": 44,
     "metadata": {},
     "output_type": "execute_result"
    },
    {
     "data": {
      "image/png": "[encoded data removed]",
      "text/plain": [
       "<matplotlib.figure.Figure at 0x14048048>"
      ]
     },
     "metadata": {},
     "output_type": "display_data"
    }
   ],
   "source": [
    "plt.plot([0, np.cos(hmm_vm_l.means_)[0]], [0, np.sin(hmm_vm_l.means_)[0]])\n",
    "plt.plot([0, np.cos(hmm_vm_l.means_)[1]], [0, np.sin(hmm_vm_l.means_)[1]])\n",
    "t = np.linspace(0,np.pi*2,100)\n",
    "plt.plot(np.cos(t), np.sin(t), linewidth=1)\n",
    "plt.title(\"Direction of means for letter L\")\n",
    "plt.xlim((-1,1))\n",
    "plt.ylim((-1,1))"
   ]
  },
  {
   "cell_type": "markdown",
   "metadata": {},
   "source": [
    "**Kappas:**"
   ]
  },
  {
   "cell_type": "code",
   "execution_count": 45,
   "metadata": {
    "scrolled": true
   },
   "outputs": [
    {
     "data": {
      "text/plain": [
       "array([[   3.64864042],\n",
       "       [ 106.21469148]])"
      ]
     },
     "execution_count": 45,
     "metadata": {},
     "output_type": "execute_result"
    }
   ],
   "source": [
    "hmm_vm_l.kappas_"
   ]
  },
  {
   "cell_type": "markdown",
   "metadata": {},
   "source": [
    "###### 2. Compute a 5-fold cross-validated classification error with both families of emission distributions (for the moment, only consider classes A and L.)"
   ]
  },
  {
   "cell_type": "markdown",
   "metadata": {},
   "source": [
    "#### Gaussian:"
   ]
  },
  {
   "cell_type": "code",
   "execution_count": 250,
   "metadata": {
    "scrolled": true
   },
   "outputs": [
    {
     "name": "stdout",
     "output_type": "stream",
     "text": [
      "('Fold 0 accuracy: ', 1.0)\n",
      "('Fold 1 accuracy: ', 1.0)\n",
      "('Fold 2 accuracy: ', 1.0)\n",
      "('Fold 3 accuracy: ', 1.0)\n",
      "('Fold 4 accuracy: ', 1.0)\n",
      "('5-fold CV accuracy:', 1.0)\n"
     ]
    }
   ],
   "source": [
    "indices = np.array(range(1,51))\n",
    "kf = KFold(n_splits=5)\n",
    "letters = [\"A\", \"L\"]\n",
    "states = [2, 2]\n",
    "k = 0\n",
    "cvscore = np.zeros(5)\n",
    "for inTrain, inTest in kf.split(indices):\n",
    "    correct = 0\n",
    "    models = []\n",
    "    for l in range(0,len(letters)):\n",
    "        X, lengths = create_gaussian_hmm_training_set(letters[l], indices[inTrain])\n",
    "        hmm_model = hmm.GaussianHMM(n_components=states[l]).fit(X, lengths)\n",
    "        models.append(hmm_model)\n",
    "    for l in range(0,len(letters)):\n",
    "        for index in inTest:\n",
    "            test = pd.read_csv(\"Unistroke/\" + letters[l] +str(indices[index]).zfill(2)+\".txt\", \"\\t\")\n",
    "            test = remove_zero_movements(test)\n",
    "            test = create_normalized_difference(test)\n",
    "            score = []\n",
    "            for model in models:\n",
    "                score.append(model.score(test))\n",
    "            if l == np.argmax(score):\n",
    "                correct+=1\n",
    "    cvscore[k] = 1.*correct/(len(inTest)*len(letters))\n",
    "    print(\"Fold \" + str(k) + \" accuracy: \", cvscore[k])\n",
    "    k+=1\n",
    "\n",
    "print(\"5-fold CV accuracy:\", np.mean(cvscore))"
   ]
  },
  {
   "cell_type": "markdown",
   "metadata": {},
   "source": [
    "#### Von Mises:"
   ]
  },
  {
   "cell_type": "code",
   "execution_count": 252,
   "metadata": {},
   "outputs": [
    {
     "name": "stdout",
     "output_type": "stream",
     "text": [
      "('Fold 0 accuracy: ', 1.0)\n",
      "('Fold 1 accuracy: ', 1.0)\n",
      "('Fold 2 accuracy: ', 1.0)\n",
      "('Fold 3 accuracy: ', 1.0)\n",
      "('Fold 4 accuracy: ', 1.0)\n",
      "('5-fold CV accuracy:', 1.0)\n"
     ]
    }
   ],
   "source": [
    "indices = np.array(range(1,51))\n",
    "kf = KFold(n_splits=5)\n",
    "letters = [\"A\", \"L\"]\n",
    "states = [2, 2]\n",
    "k = 0\n",
    "cvscore = np.zeros(5)\n",
    "for inTrain, inTest in kf.split(indices):\n",
    "    correct = 0\n",
    "    models = []\n",
    "    for l in range(0,len(letters)):\n",
    "        X = create_vonmises_hmm_training_set(letters[l], indices[inTrain])\n",
    "        hmm_model = VonMisesHMM(n_states=states[l]).fit(X)\n",
    "        models.append(hmm_model)\n",
    "    for l in range(0,len(letters)):\n",
    "        for index in inTest:\n",
    "            test = pd.read_csv(\"Unistroke/\" + letters[l] +str(indices[index]).zfill(2)+\".txt\", \"\\t\")\n",
    "            test = remove_zero_movements(test)\n",
    "            test = create_normalized_difference(test)\n",
    "            test = np.arctan2(test[:,1], test[:,0])\n",
    "            test = test.reshape((-1,1))\n",
    "            score = []\n",
    "            for model in models:\n",
    "                score.append(model.score([test]))\n",
    "            if l == np.argmax(score):\n",
    "                correct+=1\n",
    "    cvscore[k] = 1.*correct/(len(inTest)*len(letters))\n",
    "    print(\"Fold \" + str(k) + \" accuracy: \", cvscore[k])\n",
    "    k+=1\n",
    "\n",
    "print(\"5-fold CV accuracy:\", np.mean(cvscore))"
   ]
  },
  {
   "cell_type": "markdown",
   "metadata": {
    "collapsed": true
   },
   "source": [
    "### 4.3 Optional additional questions"
   ]
  },
  {
   "cell_type": "markdown",
   "metadata": {},
   "source": [
    "##### 1. Give a formal definition of consistent estimators of the number of states in a HMM. Write some state-of-the-art on that topic, choose one of the references therein, justifying your choice. Provide a one-page description of the approach developed in that reference.\n"
   ]
  },
  {
   "cell_type": "markdown",
   "metadata": {
    "collapsed": true
   },
   "source": [
    "A consistent estimator of the number of states in a HMM one that, under infinite data, will provide the true optimal number of parameters for the HMM. We were not able or did not have time to go further and pick a consistent method. Instead, we decided to use a popular method for the following questions: BIC."
   ]
  },
  {
   "cell_type": "markdown",
   "metadata": {},
   "source": [
    "#### 2. Imagine, describe and implement a protocol to evaluate consistency of any arbitrary estimator of the number of states. Test this protocol on HMM with von Mises distributions, using the estimator chosen in the previous question."
   ]
  },
  {
   "cell_type": "markdown",
   "metadata": {},
   "source": [
    "#### 3. Apply the chosen approach to estimate the number of states in the real data set of part 4.1 (with mixture of von Mises distributions), considering now the 6 letters A, E, H, L, O and Q.\n"
   ]
  },
  {
   "cell_type": "code",
   "execution_count": null,
   "metadata": {
    "collapsed": true
   },
   "outputs": [],
   "source": [
    "letters = [\"A\", \"L\", \"E\", \"Q\", \"O\", \"H\"]\n",
    "max_states = 12\n",
    "bic = np.zeros([max_states,len(letters)])\n",
    "for i in range(1,max_states):\n",
    "    for l in range(0,len(letters)):\n",
    "        X_a = create_vonmises_hmm_training_set(letters[l], range(1,51))\n",
    "        hmm_model_a = VonMisesHMM(n_states=i).fit(X_a)\n",
    "        M = 2\n",
    "        N = i\n",
    "        n_params = 2*N + N*(N-1) + N - 1\n",
    "        bic[i,l] = -2*hmm_model_a.score(X_a) + n_params*np.log(len(np.vstack(X_a)))\n",
    "    #print(bic[i,:].round())"
   ]
  },
  {
   "cell_type": "code",
   "execution_count": null,
   "metadata": {
    "collapsed": true
   },
   "outputs": [],
   "source": [
    "Values found with BIC:"
   ]
  },
  {
   "cell_type": "code",
   "execution_count": null,
   "metadata": {
    "collapsed": true
   },
   "outputs": [],
   "source": [
    "np.argmin(bic[1:14,:], axis = 0)+1"
   ]
  },
  {
   "cell_type": "code",
   "execution_count": null,
   "metadata": {
    "collapsed": true
   },
   "outputs": [],
   "source": [
    "pd.DataFrame(bic[1:], columns=letters).plot()\n",
    "plt.title(\"BIC with respect to the number of states \\n for Von Mises emission distributions\")"
   ]
  },
  {
   "cell_type": "markdown",
   "metadata": {},
   "source": [
    "#### 4. Compute a 5-fold cross-validated classification error using the 6 estimated models. Provide the parameter estimates for each of the 6 models. Provide some confusion matrix using the selected models and comment the errors."
   ]
  },
  {
   "cell_type": "code",
   "execution_count": 91,
   "metadata": {
    "scrolled": true
   },
   "outputs": [
    {
     "name": "stdout",
     "output_type": "stream",
     "text": [
      "('Fold 0 accuracy: ', 0.8833333333333333)\n"
     ]
    },
    {
     "ename": "ValueError",
     "evalue": " Error code=-2",
     "output_type": "error",
     "traceback": [
      "\u001b[1;31m\u001b[0m",
      "\u001b[1;31mValueError\u001b[0mTraceback (most recent call last)",
      "\u001b[1;32mmsmbuilder\\hmm\\vonmises.pyx\u001b[0m in \u001b[0;36mmsmbuilder.hmm.vonmises.VonMisesHMM._do_mstep\u001b[1;34m()\u001b[0m\n",
      "\u001b[1;32mmsmbuilder\\msm\\_markovstatemodel.pyx\u001b[0m in \u001b[0;36mmsmbuilder.msm._markovstatemodel._transmat_mle_prinz\u001b[1;34m()\u001b[0m\n",
      "\u001b[1;31mValueError\u001b[0m:  Error code=-2"
     ]
    },
    {
     "name": "stderr",
     "output_type": "stream",
     "text": [
      "Exception ValueError: ValueError(' Error code=-2',) in 'msmbuilder.hmm.vonmises._do_mstep_double' ignored\n"
     ]
    },
    {
     "ename": "ValueError",
     "evalue": " Error code=-2",
     "output_type": "error",
     "traceback": [
      "\u001b[1;31m\u001b[0m",
      "\u001b[1;31mValueError\u001b[0mTraceback (most recent call last)",
      "\u001b[1;32mmsmbuilder\\hmm\\vonmises.pyx\u001b[0m in \u001b[0;36mmsmbuilder.hmm.vonmises.VonMisesHMM._do_mstep\u001b[1;34m()\u001b[0m\n",
      "\u001b[1;32mmsmbuilder\\msm\\_markovstatemodel.pyx\u001b[0m in \u001b[0;36mmsmbuilder.msm._markovstatemodel._transmat_mle_prinz\u001b[1;34m()\u001b[0m\n",
      "\u001b[1;31mValueError\u001b[0m:  Error code=-2"
     ]
    },
    {
     "name": "stderr",
     "output_type": "stream",
     "text": [
      "Exception ValueError: ValueError(' Error code=-2',) in 'msmbuilder.hmm.vonmises._do_mstep_double' ignored\n"
     ]
    },
    {
     "ename": "ValueError",
     "evalue": " Error code=-2",
     "output_type": "error",
     "traceback": [
      "\u001b[1;31m\u001b[0m",
      "\u001b[1;31mValueError\u001b[0mTraceback (most recent call last)",
      "\u001b[1;32mmsmbuilder\\hmm\\vonmises.pyx\u001b[0m in \u001b[0;36mmsmbuilder.hmm.vonmises.VonMisesHMM._do_mstep\u001b[1;34m()\u001b[0m\n",
      "\u001b[1;32mmsmbuilder\\msm\\_markovstatemodel.pyx\u001b[0m in \u001b[0;36mmsmbuilder.msm._markovstatemodel._transmat_mle_prinz\u001b[1;34m()\u001b[0m\n",
      "\u001b[1;31mValueError\u001b[0m:  Error code=-2"
     ]
    },
    {
     "name": "stderr",
     "output_type": "stream",
     "text": [
      "Exception ValueError: ValueError(' Error code=-2',) in 'msmbuilder.hmm.vonmises._do_mstep_double' ignored\n"
     ]
    },
    {
     "name": "stdout",
     "output_type": "stream",
     "text": [
      "('Fold 1 accuracy: ', 0.96666666666666667)\n"
     ]
    },
    {
     "ename": "ValueError",
     "evalue": " Error code=-2",
     "output_type": "error",
     "traceback": [
      "\u001b[1;31m\u001b[0m",
      "\u001b[1;31mValueError\u001b[0mTraceback (most recent call last)",
      "\u001b[1;32mmsmbuilder\\hmm\\vonmises.pyx\u001b[0m in \u001b[0;36mmsmbuilder.hmm.vonmises.VonMisesHMM._do_mstep\u001b[1;34m()\u001b[0m\n",
      "\u001b[1;32mmsmbuilder\\msm\\_markovstatemodel.pyx\u001b[0m in \u001b[0;36mmsmbuilder.msm._markovstatemodel._transmat_mle_prinz\u001b[1;34m()\u001b[0m\n",
      "\u001b[1;31mValueError\u001b[0m:  Error code=-2"
     ]
    },
    {
     "name": "stderr",
     "output_type": "stream",
     "text": [
      "Exception ValueError: ValueError(' Error code=-2',) in 'msmbuilder.hmm.vonmises._do_mstep_double' ignored\n"
     ]
    },
    {
     "ename": "ValueError",
     "evalue": " Error code=-2",
     "output_type": "error",
     "traceback": [
      "\u001b[1;31m\u001b[0m",
      "\u001b[1;31mValueError\u001b[0mTraceback (most recent call last)",
      "\u001b[1;32mmsmbuilder\\hmm\\vonmises.pyx\u001b[0m in \u001b[0;36mmsmbuilder.hmm.vonmises.VonMisesHMM._do_mstep\u001b[1;34m()\u001b[0m\n",
      "\u001b[1;32mmsmbuilder\\msm\\_markovstatemodel.pyx\u001b[0m in \u001b[0;36mmsmbuilder.msm._markovstatemodel._transmat_mle_prinz\u001b[1;34m()\u001b[0m\n",
      "\u001b[1;31mValueError\u001b[0m:  Error code=-2"
     ]
    },
    {
     "name": "stderr",
     "output_type": "stream",
     "text": [
      "Exception ValueError: ValueError(' Error code=-2',) in 'msmbuilder.hmm.vonmises._do_mstep_double' ignored\n"
     ]
    },
    {
     "ename": "ValueError",
     "evalue": " Error code=-2",
     "output_type": "error",
     "traceback": [
      "\u001b[1;31m\u001b[0m",
      "\u001b[1;31mValueError\u001b[0mTraceback (most recent call last)",
      "\u001b[1;32mmsmbuilder\\hmm\\vonmises.pyx\u001b[0m in \u001b[0;36mmsmbuilder.hmm.vonmises.VonMisesHMM._do_mstep\u001b[1;34m()\u001b[0m\n",
      "\u001b[1;32mmsmbuilder\\msm\\_markovstatemodel.pyx\u001b[0m in \u001b[0;36mmsmbuilder.msm._markovstatemodel._transmat_mle_prinz\u001b[1;34m()\u001b[0m\n",
      "\u001b[1;31mValueError\u001b[0m:  Error code=-2"
     ]
    },
    {
     "name": "stderr",
     "output_type": "stream",
     "text": [
      "Exception ValueError: ValueError(' Error code=-2',) in 'msmbuilder.hmm.vonmises._do_mstep_double' ignored\n"
     ]
    },
    {
     "ename": "ValueError",
     "evalue": " Error code=-2",
     "output_type": "error",
     "traceback": [
      "\u001b[1;31m\u001b[0m",
      "\u001b[1;31mValueError\u001b[0mTraceback (most recent call last)",
      "\u001b[1;32mmsmbuilder\\hmm\\vonmises.pyx\u001b[0m in \u001b[0;36mmsmbuilder.hmm.vonmises.VonMisesHMM._do_mstep\u001b[1;34m()\u001b[0m\n",
      "\u001b[1;32mmsmbuilder\\msm\\_markovstatemodel.pyx\u001b[0m in \u001b[0;36mmsmbuilder.msm._markovstatemodel._transmat_mle_prinz\u001b[1;34m()\u001b[0m\n",
      "\u001b[1;31mValueError\u001b[0m:  Error code=-2"
     ]
    },
    {
     "name": "stderr",
     "output_type": "stream",
     "text": [
      "Exception ValueError: ValueError(' Error code=-2',) in 'msmbuilder.hmm.vonmises._do_mstep_double' ignored\n"
     ]
    },
    {
     "name": "stdout",
     "output_type": "stream",
     "text": [
      "('Fold 2 accuracy: ', 0.94999999999999996)\n"
     ]
    },
    {
     "ename": "ValueError",
     "evalue": " Error code=-2",
     "output_type": "error",
     "traceback": [
      "\u001b[1;31m\u001b[0m",
      "\u001b[1;31mValueError\u001b[0mTraceback (most recent call last)",
      "\u001b[1;32mmsmbuilder\\hmm\\vonmises.pyx\u001b[0m in \u001b[0;36mmsmbuilder.hmm.vonmises.VonMisesHMM._do_mstep\u001b[1;34m()\u001b[0m\n",
      "\u001b[1;32mmsmbuilder\\msm\\_markovstatemodel.pyx\u001b[0m in \u001b[0;36mmsmbuilder.msm._markovstatemodel._transmat_mle_prinz\u001b[1;34m()\u001b[0m\n",
      "\u001b[1;31mValueError\u001b[0m:  Error code=-2"
     ]
    },
    {
     "name": "stderr",
     "output_type": "stream",
     "text": [
      "Exception ValueError: ValueError(' Error code=-2',) in 'msmbuilder.hmm.vonmises._do_mstep_double' ignored\n"
     ]
    },
    {
     "ename": "ValueError",
     "evalue": " Error code=-2",
     "output_type": "error",
     "traceback": [
      "\u001b[1;31m\u001b[0m",
      "\u001b[1;31mValueError\u001b[0mTraceback (most recent call last)",
      "\u001b[1;32mmsmbuilder\\hmm\\vonmises.pyx\u001b[0m in \u001b[0;36mmsmbuilder.hmm.vonmises.VonMisesHMM._do_mstep\u001b[1;34m()\u001b[0m\n",
      "\u001b[1;32mmsmbuilder\\msm\\_markovstatemodel.pyx\u001b[0m in \u001b[0;36mmsmbuilder.msm._markovstatemodel._transmat_mle_prinz\u001b[1;34m()\u001b[0m\n",
      "\u001b[1;31mValueError\u001b[0m:  Error code=-2"
     ]
    },
    {
     "name": "stderr",
     "output_type": "stream",
     "text": [
      "Exception ValueError: ValueError(' Error code=-2',) in 'msmbuilder.hmm.vonmises._do_mstep_double' ignored\n"
     ]
    },
    {
     "ename": "ValueError",
     "evalue": " Error code=-2",
     "output_type": "error",
     "traceback": [
      "\u001b[1;31m\u001b[0m",
      "\u001b[1;31mValueError\u001b[0mTraceback (most recent call last)",
      "\u001b[1;32mmsmbuilder\\hmm\\vonmises.pyx\u001b[0m in \u001b[0;36mmsmbuilder.hmm.vonmises.VonMisesHMM._do_mstep\u001b[1;34m()\u001b[0m\n",
      "\u001b[1;32mmsmbuilder\\msm\\_markovstatemodel.pyx\u001b[0m in \u001b[0;36mmsmbuilder.msm._markovstatemodel._transmat_mle_prinz\u001b[1;34m()\u001b[0m\n",
      "\u001b[1;31mValueError\u001b[0m:  Error code=-2"
     ]
    },
    {
     "name": "stderr",
     "output_type": "stream",
     "text": [
      "Exception ValueError: ValueError(' Error code=-2',) in 'msmbuilder.hmm.vonmises._do_mstep_double' ignored\n"
     ]
    },
    {
     "name": "stdout",
     "output_type": "stream",
     "text": [
      "('Fold 3 accuracy: ', 0.96666666666666667)\n"
     ]
    },
    {
     "ename": "ValueError",
     "evalue": " Error code=-2",
     "output_type": "error",
     "traceback": [
      "\u001b[1;31m\u001b[0m",
      "\u001b[1;31mValueError\u001b[0mTraceback (most recent call last)",
      "\u001b[1;32mmsmbuilder\\hmm\\vonmises.pyx\u001b[0m in \u001b[0;36mmsmbuilder.hmm.vonmises.VonMisesHMM._do_mstep\u001b[1;34m()\u001b[0m\n",
      "\u001b[1;32mmsmbuilder\\msm\\_markovstatemodel.pyx\u001b[0m in \u001b[0;36mmsmbuilder.msm._markovstatemodel._transmat_mle_prinz\u001b[1;34m()\u001b[0m\n",
      "\u001b[1;31mValueError\u001b[0m:  Error code=-2"
     ]
    },
    {
     "name": "stderr",
     "output_type": "stream",
     "text": [
      "Exception ValueError: ValueError(' Error code=-2',) in 'msmbuilder.hmm.vonmises._do_mstep_double' ignored\n"
     ]
    },
    {
     "name": "stdout",
     "output_type": "stream",
     "text": [
      "('Fold 4 accuracy: ', 0.94999999999999996)\n",
      "('5-fold CV accuracy:', 0.94333333333333336)\n"
     ]
    }
   ],
   "source": [
    "indices = np.array(range(1,51))\n",
    "# kf = KFold(n_splits=5)\n",
    "letters = [\"A\", \"L\", \"E\", \"Q\", \"O\", \"H\"]\n",
    "states = [ 4,  6,  5, 10,  9,  6]#[ 4,  6,  5, 5,  9,  6]\n",
    "k = 0\n",
    "cvscore = np.zeros(5)\n",
    "confusion_matrix = np.zeros([len(letters),len(letters)])\n",
    "y_true = np.array([])\n",
    "y_pred = np.array([])\n",
    "for inTrain, inTest in kf.split(indices):\n",
    "    correct = 0\n",
    "    models = []\n",
    "    for l in range(0,len(letters)):\n",
    "        X = create_vonmises_hmm_training_set(letters[l], indices[inTrain])\n",
    "        hmm_model = VonMisesHMM(n_states=states[l]).fit(X)\n",
    "        models.append(hmm_model)\n",
    "    for l in range(0,len(letters)):\n",
    "        for index in inTest:\n",
    "            test = pd.read_csv(\"Unistroke/\" + letters[l] +str(indices[index]).zfill(2)+\".txt\", \"\\t\")\n",
    "            test = remove_zero_movements(test)\n",
    "            test = create_normalized_difference(test)\n",
    "            test = np.arctan2(test[:,1], test[:,0])\n",
    "            test = test.reshape((-1,1))\n",
    "            score = []\n",
    "            for model in models:\n",
    "                score.append(model.score([test]))\n",
    "            if l == np.argmax(score):\n",
    "                correct+=1\n",
    "            confusion_matrix[l][np.argmax(score)]+=1\n",
    "            y_true = np.append(y_true, [l])\n",
    "            y_pred = np.append(y_pred, [np.argmax(score)])\n",
    "    cvscore[k] = 1.*correct/(len(inTest)*len(letters))\n",
    "    print(\"Fold \" + str(k) + \" accuracy: \", cvscore[k])\n",
    "    k+=1\n",
    "\n",
    "print(\"5-fold CV accuracy:\", np.mean(cvscore))"
   ]
  },
  {
   "cell_type": "code",
   "execution_count": 92,
   "metadata": {},
   "outputs": [
    {
     "name": "stdout",
     "output_type": "stream",
     "text": [
      "Confusion matrix, without normalization\n",
      "[[50  0  0  0  0  0]\n",
      " [ 0 50  0  0  0  0]\n",
      " [ 0  0 37 13  0  0]\n",
      " [ 0  0  1 49  0  0]\n",
      " [ 0  0  0  3 47  0]\n",
      " [ 0  0  0  0  0 50]]\n"
     ]
    },
    {
     "data": {
      "image/png": "[encoded data removed]",
      "text/plain": [
       "<matplotlib.figure.Figure at 0x15c76048>"
      ]
     },
     "metadata": {},
     "output_type": "display_data"
    }
   ],
   "source": [
    "import itertools\n",
    "from sklearn.metrics import confusion_matrix\n",
    "def plot_confusion_matrix(cm, classes,\n",
    "                          normalize=False,\n",
    "                          title='Confusion matrix',\n",
    "                          cmap=plt.cm.Blues):\n",
    "    \"\"\"\n",
    "    This function prints and plots the confusion matrix.\n",
    "    Normalization can be applied by setting `normalize=True`.\n",
    "    \"\"\"\n",
    "    if normalize:\n",
    "        cm = cm.astype('float') / cm.sum(axis=1)[:, np.newaxis]\n",
    "        print(\"Normalized confusion matrix\")\n",
    "    else:\n",
    "        print('Confusion matrix, without normalization')\n",
    "\n",
    "    print(cm)\n",
    "\n",
    "    plt.imshow(cm, interpolation='nearest', cmap=cmap)\n",
    "    plt.title(title)\n",
    "    plt.colorbar()\n",
    "    tick_marks = np.arange(len(classes))\n",
    "    plt.xticks(tick_marks, classes, rotation=45)\n",
    "    plt.yticks(tick_marks, classes)\n",
    "\n",
    "    fmt = '.2f' if normalize else 'd'\n",
    "    thresh = cm.max() / 2.\n",
    "    for i, j in itertools.product(range(cm.shape[0]), range(cm.shape[1])):\n",
    "        plt.text(j, i, format(cm[i, j], fmt),\n",
    "                 horizontalalignment=\"center\",\n",
    "                 color=\"white\" if cm[i, j] > thresh else \"black\")\n",
    "\n",
    "    plt.tight_layout()\n",
    "    plt.ylabel('True label')\n",
    "    plt.xlabel('Predicted label')\n",
    "\n",
    "# Compute confusion matrix\n",
    "cnf_matrix = confusion_matrix(y_true, y_pred)\n",
    "np.set_printoptions(precision=2)\n",
    "\n",
    "# Plot non-normalized confusion matrix\n",
    "plt.figure()\n",
    "plot_confusion_matrix(cnf_matrix, classes=letters,\n",
    "                      title='Confusion matrix, without normalization')\n",
    "plt.show()"
   ]
  },
  {
   "cell_type": "markdown",
   "metadata": {},
   "source": [
    "As we can see, most of the errors were made by mispredicting E as Q. This was unexpected because the most visually similar letters are Q and O. We took a look at the mean angles for E and Q to look for insights. As we can see below, all the angles in E have very close corresponding angles in Q. This could be partially explained by the fact that Q has many states, so it is probable the they will be close to some of E, but we believe that such explanation is not sufficient. \n",
    "\n",
    "It is interesting to note that, if we change the number of states in Q to 5, this problem is practically solved and we get an cross-validation accuracy of 98\\%. If we, again, look at the means we see that the angles are less similar now."
   ]
  },
  {
   "cell_type": "code",
   "execution_count": 132,
   "metadata": {
    "collapsed": true
   },
   "outputs": [],
   "source": [
    "def plot_angles(letter, states):\n",
    "    X_von = create_vonmises_hmm_training_set(letter, range(1,51))\n",
    "    X_gaus, lens = create_gaussian_hmm_training_set(letter, range(1,51))\n",
    "    hmm_model = VonMisesHMM(n_states=states).fit(X_von)\n",
    "    colors = hmm_model.predict(X_von)\n",
    "    for i in range(0,states):\n",
    "        plt.plot([0, np.cos(hmm_model.means_)[i]], [0, np.sin(hmm_model.means_)[i]])\n",
    "        t = np.linspace(0,np.pi*2,100)\n",
    "        plt.plot(np.cos(t), np.sin(t), linewidth=1)\n",
    "        plt.title(\"Direction of means for letter \" + letter)\n",
    "        plt.xlim((-1,1))\n",
    "        plt.ylim((-1,1))"
   ]
  },
  {
   "cell_type": "code",
   "execution_count": 133,
   "metadata": {},
   "outputs": [
    {
     "data": {
      "image/png": "[encoded data removed]",
      "text/plain": [
       "<matplotlib.figure.Figure at 0x165701d0>"
      ]
     },
     "metadata": {},
     "output_type": "display_data"
    }
   ],
   "source": [
    "plot_angles(letters[2], states[2])"
   ]
  },
  {
   "cell_type": "code",
   "execution_count": 135,
   "metadata": {},
   "outputs": [
    {
     "data": {
      "image/png": "[encoded data removed]",
      "text/plain": [
       "<matplotlib.figure.Figure at 0x17847630>"
      ]
     },
     "metadata": {},
     "output_type": "display_data"
    }
   ],
   "source": [
    "plot_angles(letters[3], states[3])"
   ]
  },
  {
   "cell_type": "code",
   "execution_count": 136,
   "metadata": {},
   "outputs": [
    {
     "data": {
      "image/png": "[encoded data removed]",
      "text/plain": [
       "<matplotlib.figure.Figure at 0x17e73f98>"
      ]
     },
     "metadata": {},
     "output_type": "display_data"
    }
   ],
   "source": [
    "plot_angles(letters[3], 5)"
   ]
  }
 ],
 "metadata": {
  "kernelspec": {
   "display_name": "Python 2",
   "language": "python",
   "name": "python2"
  },
  "language_info": {
   "codemirror_mode": {
    "name": "ipython",
    "version": 2
   },
   "file_extension": ".py",
   "mimetype": "text/x-python",
   "name": "python",
   "nbconvert_exporter": "python",
   "pygments_lexer": "ipython2",
   "version": "2.7.14"
  }
 },
 "nbformat": 4,
 "nbformat_minor": 2
}
