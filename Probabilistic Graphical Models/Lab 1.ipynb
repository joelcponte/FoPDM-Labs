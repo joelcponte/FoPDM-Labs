{
 "cells": [
  {
   "cell_type": "markdown",
   "metadata": {},
   "source": [
    "# Fundamentals of Probabilistic Data Mining - Lab 1\n",
    "## Probabilistic Graphical Models\n",
    "## Group:\n",
    "- CERQUEIRA PONTE Joel (cerquejo)\n",
    "- HUARTE SALAZAR Ricardo (huartesr)\n",
    "- LUU Duc Anh (luud)\n",
    "- SU Aimin (sua)"
   ]
  },
  {
   "cell_type": "markdown",
   "metadata": {},
   "source": [
    "## *2.1.1 Simulated data*\n",
    "\n",
    "Firstly, simulate a Gaussian model with the perfect map in Figure 2.1.1. To do this, use linear regression\n",
    "models using offsets 0, the coefficients in the figure, and the residual standard deviation σ = 1. Simulate\n",
    "one sample of size 40 and one sample of size 100.\n",
    "Compare the gs and hc procedures (Scutari, 2010) using both sample sizes. What is your conclusion?"
   ]
  },
  {
   "cell_type": "markdown",
   "metadata": {},
   "source": [
    "<img src=\"img/pgm.png\" width=\"400\">"
   ]
  },
  {
   "cell_type": "code",
   "execution_count": 2,
   "metadata": {
    "collapsed": true
   },
   "outputs": [],
   "source": [
    "set.seed(3)\n",
    "suppressWarnings(suppressMessages(library(Rgraphviz, warn.conflicts = F)))\n",
    "suppressWarnings(suppressMessages(library(bnlearn, warn.conflicts = F)))\n",
    "suppressWarnings(suppressMessages(library(tidyverse, warn.conflicts = F)))"
   ]
  },
  {
   "cell_type": "markdown",
   "metadata": {},
   "source": [
    "#### Sample size = 40"
   ]
  },
  {
   "cell_type": "code",
   "execution_count": 65,
   "metadata": {
    "collapsed": false
   },
   "outputs": [
    {
     "data": {
      "image/png": "[encoded data removed]",
      "text/plain": [
       "plot without title"
      ]
     },
     "metadata": {},
     "output_type": "display_data"
    }
   ],
   "source": [
    "sample_size = 40\n",
    "\n",
    "x1 = rnorm(sample_size, 0, 1)\n",
    "x2 = rnorm(sample_size, 0, 1)\n",
    "x3 = -x1 + rnorm(sample_size, 0, 1)\n",
    "x4 = -2*x3 + rnorm(sample_size, 0, 1)\n",
    "x5 = -x2 + rnorm(sample_size, 0, 1)\n",
    "x6 = 2*x3 -x2 + x1 + rnorm(sample_size, 0, 1)\n",
    "\n",
    "graph = data.frame(x1, x2, x3, x4, x5, x6)\n",
    "\n",
    "res = gs(graph)\n",
    "options(repr.plot.width=3, repr.plot.height=3)\n",
    "#g1 <- graphviz.plot(res)\n",
    "plot(g1, attrs = list(node = list(fontsize=4, fillcolor = \"lightgreen\")))"
   ]
  },
  {
   "cell_type": "code",
   "execution_count": 70,
   "metadata": {
    "collapsed": false,
    "scrolled": false
   },
   "outputs": [
    {
     "data": {
      "image/png": "[encoded data removed]",
      "text/plain": [
       "plot without title"
      ]
     },
     "metadata": {},
     "output_type": "display_data"
    }
   ],
   "source": [
    "res = hc(graph)\n",
    "#g2 <- graphviz.plot(res)\n",
    "options(repr.plot.width=3, repr.plot.height=5)\n",
    "plot(g2, attrs = list(node = list(fontsize=4, fillcolor = \"lightgreen\")))"
   ]
  },
  {
   "cell_type": "markdown",
   "metadata": {},
   "source": [
    "#### Sample size = 100"
   ]
  },
  {
   "cell_type": "code",
   "execution_count": 45,
   "metadata": {
    "collapsed": false
   },
   "outputs": [],
   "source": [
    "defAttrs = getDefaultAttrs()\n",
    "defAttrs$node$fontsize = 5"
   ]
  },
  {
   "cell_type": "code",
   "execution_count": 72,
   "metadata": {
    "collapsed": false
   },
   "outputs": [
    {
     "data": {
      "image/png": "[encoded data removed]",
      "text/plain": [
       "plot without title"
      ]
     },
     "metadata": {},
     "output_type": "display_data"
    }
   ],
   "source": [
    "sample_size = 100\n",
    "\n",
    "x1 = rnorm(sample_size, 0, 1)\n",
    "x2 = rnorm(sample_size, 0, 1)\n",
    "x3 = -x1 + rnorm(sample_size, 0, 1)\n",
    "x4 = -2*x3 + rnorm(sample_size, 0, 1)\n",
    "x5 = -x2 + rnorm(sample_size, 0, 1)\n",
    "x6 = 2*x3 -x2 + x1 + rnorm(sample_size, 0, 1)\n",
    "\n",
    "graph = data.frame(x1, x2, x3, x4, x5, x6)\n",
    "\n",
    "res = gs(graph)\n",
    "#g3 <- graphviz.plot(res)\n",
    "options(repr.plot.width=3, repr.plot.height=3)\n",
    "plot(g3, attrs = list(node = list(fontsize=4, fillcolor = \"lightgreen\")))"
   ]
  },
  {
   "cell_type": "code",
   "execution_count": 74,
   "metadata": {
    "collapsed": false
   },
   "outputs": [
    {
     "data": {
      "image/png": "[encoded data removed]",
      "text/plain": [
       "plot without title"
      ]
     },
     "metadata": {},
     "output_type": "display_data"
    }
   ],
   "source": [
    "res = hc(graph)\n",
    "#g4 <- graphviz.plot(res)\n",
    "options(repr.plot.width=3, repr.plot.height=3)\n",
    "plot(g4, attrs = list(node = list(fontsize=4, fillcolor = \"lightgreen\")))"
   ]
  },
  {
   "cell_type": "markdown",
   "metadata": {},
   "source": [
    "Both algorithms yielded wrong graphs in the presence of small data. By increasing the amount of examples Hill-Climbing was able to find the correct graph."
   ]
  },
  {
   "cell_type": "markdown",
   "metadata": {},
   "source": [
    "## *2.1.2 Real data: asset returns*"
   ]
  },
  {
   "cell_type": "markdown",
   "metadata": {},
   "source": [
    "*We consider the returns of 8 assets on n = 5, 039 days. The daily return Xt,i of asset i at time t is defined\n",
    "as (Vt,i − Vt−1,i)/Vt−1,i, where Vt,i is the value of asset i at time t.\n",
    "Here, we consider the assets \"AIR.FRANCE.KLM\", \"ALCATEL.LUCENT\" \"AXA\", \"FAURECIA\", \"GAUMONT\",\n",
    "\"GEODIS\", \"PPR\" and \"UNION.FINC.FRANC.\" only.*\n",
    "\n",
    "#### *1) Use file \"Returns250d.txt\" to create a data frame with only the 8 assets listed above*"
   ]
  },
  {
   "cell_type": "code",
   "execution_count": 3,
   "metadata": {
    "collapsed": false
   },
   "outputs": [
    {
     "data": {
      "text/html": [
       "<ol class=list-inline>\n",
       "\t<li>5039</li>\n",
       "\t<li>8</li>\n",
       "</ol>\n"
      ],
      "text/latex": [
       "\\begin{enumerate*}\n",
       "\\item 5039\n",
       "\\item 8\n",
       "\\end{enumerate*}\n"
      ],
      "text/markdown": [
       "1. 5039\n",
       "2. 8\n",
       "\n",
       "\n"
      ],
      "text/plain": [
       "[1] 5039    8"
      ]
     },
     "metadata": {},
     "output_type": "display_data"
    },
    {
     "data": {
      "text/plain": [
       " AIR.FRANCE.KLM       ALCATEL.LUCENT            AXA            \n",
       " Min.   :-1.7635473   Min.   :-0.4845686   Min.   :-0.1426634  \n",
       " 1st Qu.:-0.0063863   1st Qu.:-0.0121089   1st Qu.:-0.0103377  \n",
       " Median : 0.0000000   Median : 0.0000000   Median : 0.0000000  \n",
       " Mean   : 0.0000473   Mean   : 0.0000227   Mean   : 0.0003809  \n",
       " 3rd Qu.: 0.0063091   3rd Qu.: 0.0121445   3rd Qu.: 0.0110617  \n",
       " Max.   : 1.3683165   Max.   : 0.3402577   Max.   : 0.1577519  \n",
       " NA's   :1            NA's   :1            NA's   :1           \n",
       "    FAURECIA             GAUMONT               GEODIS          \n",
       " Min.   :-0.1309434   Min.   :-0.1257752   Min.   :-0.1380833  \n",
       " 1st Qu.:-0.0090422   1st Qu.:-0.0080746   1st Qu.:-0.0089750  \n",
       " Median : 0.0000000   Median : 0.0000000   Median : 0.0000000  \n",
       " Mean   : 0.0003465   Mean   : 0.0002831   Mean   : 0.0001653  \n",
       " 3rd Qu.: 0.0082032   3rd Qu.: 0.0082083   3rd Qu.: 0.0096252  \n",
       " Max.   : 0.2876657   Max.   : 0.1601739   Max.   : 0.1908418  \n",
       " NA's   :1            NA's   :1            NA's   :2           \n",
       "      PPR             UNION.FINC.FRANC.   \n",
       " Min.   :-0.1372370   Min.   :-0.1551852  \n",
       " 1st Qu.:-0.0091125   1st Qu.:-0.0077989  \n",
       " Median : 0.0000000   Median : 0.0000000  \n",
       " Mean   : 0.0005713   Mean   : 0.0005546  \n",
       " 3rd Qu.: 0.0098726   3rd Qu.: 0.0086955  \n",
       " Max.   : 0.1823157   Max.   : 0.1407021  \n",
       " NA's   :1            NA's   :1           "
      ]
     },
     "metadata": {},
     "output_type": "display_data"
    }
   ],
   "source": [
    "df = read.table(\"data/Returns250d.txt\")\n",
    "## selected listed columns\n",
    "df = df %>% select(AIR.FRANCE.KLM, ALCATEL.LUCENT, AXA, FAURECIA, GAUMONT, GEODIS, PPR, UNION.FINC.FRANC.)\n",
    "dim(df)\n",
    "summary(df)\n",
    "## deleting the NA columns\n",
    "df = df[!is.na(df$GEODIS),]"
   ]
  },
  {
   "cell_type": "markdown",
   "metadata": {},
   "source": [
    "By inspecting the missing values, we can see that we can eliminate all of them but deleting the rows in which GEODIS is missing. This accounts for two rows out of 5039, so it will not impact the results substantially."
   ]
  },
  {
   "cell_type": "markdown",
   "metadata": {},
   "source": [
    "#### *2) Estimate directed graphs using the gs and hc procedures (Scutari, 2010) and plot their graphs.*"
   ]
  },
  {
   "cell_type": "markdown",
   "metadata": {},
   "source": [
    "#### *Grow-Shrink*"
   ]
  },
  {
   "cell_type": "code",
   "execution_count": 119,
   "metadata": {
    "collapsed": false
   },
   "outputs": [
    {
     "name": "stderr",
     "output_type": "stream",
     "text": [
      "Warning message in FUN(newX[, i], ...):\n",
      "\"vstructure AXA -> FAURECIA <- GAUMONT is not applicable, because one or both arcs are oriented in the opposite direction.\"Warning message in FUN(newX[, i], ...):\n",
      "\"vstructure AXA -> UNION.FINC.FRANC. <- GAUMONT is not applicable, because one or both arcs are oriented in the opposite direction.\"Warning message in FUN(newX[, i], ...):\n",
      "\"vstructure AXA -> ALCATEL.LUCENT <- GAUMONT is not applicable, because one or both arcs are oriented in the opposite direction.\""
     ]
    },
    {
     "data": {
      "image/png": "[encoded data removed]",
      "text/plain": [
       "plot without title"
      ]
     },
     "metadata": {},
     "output_type": "display_data"
    }
   ],
   "source": [
    "gr_gs = gs(df)\n",
    "def = getDefaultAttrs()\n",
    "#g5 <- graphviz.plot(gr_gs, shape = \"ellipse\")\n",
    "options(repr.plot.width=7, repr.plot.height=5)\n",
    "plot(g5, attrs = list(node = list(fillcolor = \"lightgreen\", fontsize=20, shape = \"ellipse\"), edge = list(arrowsize=0.5)))"
   ]
  },
  {
   "cell_type": "markdown",
   "metadata": {},
   "source": [
    "#### Hill-Climbing"
   ]
  },
  {
   "cell_type": "code",
   "execution_count": 120,
   "metadata": {
    "collapsed": false,
    "scrolled": false
   },
   "outputs": [
    {
     "data": {
      "image/png": "[encoded data removed]",
      "text/plain": [
       "plot without title"
      ]
     },
     "metadata": {},
     "output_type": "display_data"
    }
   ],
   "source": [
    "gr_hc = hc(df)\n",
    "#g6 = graphviz.plot(gr_hc, shape = \"ellipse\")\n",
    "options(repr.plot.width=8, repr.plot.height=5)\n",
    "plot(g6, attrs = list(node = list(fillcolor = \"lightgreen\", fontsize=25, shape = \"ellipse\"), edge = list(arrowsize=0.5)))"
   ]
  },
  {
   "cell_type": "markdown",
   "metadata": {},
   "source": [
    "#### *3) Find a marginal independence relationship between two variables found by gs but not by hc. Use ci.test to perform a statistical test of independence. What do you conclude?*"
   ]
  },
  {
   "cell_type": "markdown",
   "metadata": {},
   "source": [
    "There is a \"commond effect\" pattern between GEODIS and UNION.FINC.FRANC. implied by gs(), which implies in marginal indepence. This is not seen in the graph generated by hc()."
   ]
  },
  {
   "cell_type": "code",
   "execution_count": 121,
   "metadata": {
    "collapsed": false
   },
   "outputs": [
    {
     "data": {
      "text/plain": [
       "\n",
       "\tPearson's Correlation\n",
       "\n",
       "data:  GEODIS ~ UNION.FINC.FRANC.  \n",
       "cor = 0.030559, df = 5035, p-value = 0.0301\n",
       "alternative hypothesis: true value is not equal to 0\n"
      ]
     },
     "metadata": {},
     "output_type": "display_data"
    }
   ],
   "source": [
    "ci.test(\"GEODIS\", \"UNION.FINC.FRANC.\", data = df)"
   ]
  },
  {
   "cell_type": "markdown",
   "metadata": {},
   "source": [
    "Considering a 95% confidence level, the small p-value indicates strong evidence against the null hypothesis, meaning that they are likely to not be marginally independent."
   ]
  },
  {
   "cell_type": "markdown",
   "metadata": {},
   "source": [
    "#### *4) Find a conditional independence relationship between two variables given another set of variables found by hc but not by gs. Use ci.test to perform a statistical test of (conditional) independence. What do you conclude?*"
   ]
  },
  {
   "cell_type": "code",
   "execution_count": 122,
   "metadata": {
    "collapsed": false
   },
   "outputs": [
    {
     "data": {
      "text/plain": [
       "\n",
       "\tPearson's Correlation\n",
       "\n",
       "data:  GEODIS ~ UNION.FINC.FRANC. | ALCATEL.LUCENT\n",
       "cor = 0.024625, df = 5034, p-value = 0.08058\n",
       "alternative hypothesis: true value is not equal to 0\n"
      ]
     },
     "metadata": {},
     "output_type": "display_data"
    }
   ],
   "source": [
    "ci.test(\"GEODIS\", \"UNION.FINC.FRANC.\", \"ALCATEL.LUCENT\", data = df)"
   ]
  },
  {
   "cell_type": "markdown",
   "metadata": {},
   "source": [
    "The high p-value prevents us from rejecting the null hypothesis, giving evidence that the conditional independence is true"
   ]
  },
  {
   "cell_type": "markdown",
   "metadata": {},
   "source": [
    "#### *5) Find a conditional independence relationship between two variables given another set of variables found by both hc and gs. Use ci.test to perform a statistical test of (conditional) independence. What do you conclude?*"
   ]
  },
  {
   "cell_type": "code",
   "execution_count": 123,
   "metadata": {
    "collapsed": false
   },
   "outputs": [
    {
     "data": {
      "text/plain": [
       "\n",
       "\tPearson's Correlation\n",
       "\n",
       "data:  UNION.FINC.FRANC. ~ GEODIS | FAURECIA + ALCATEL.LUCENT + AXA\n",
       "cor = 0.020541, df = 5032, p-value = 0.1451\n",
       "alternative hypothesis: true value is not equal to 0\n"
      ]
     },
     "metadata": {},
     "output_type": "display_data"
    }
   ],
   "source": [
    "ci.test(\"UNION.FINC.FRANC.\", \"GEODIS\", c(\"FAURECIA\", \"ALCATEL.LUCENT\", \"AXA\"), df)"
   ]
  },
  {
   "cell_type": "markdown",
   "metadata": {},
   "source": [
    "Again, the high p-value prevents us from rejecting the null hypothesis, giving evidence that the conditional independence is true"
   ]
  },
  {
   "cell_type": "markdown",
   "metadata": {},
   "source": [
    "## *2.2 Mandatory additional questions*"
   ]
  },
  {
   "cell_type": "markdown",
   "metadata": {
    "collapsed": true
   },
   "source": [
    "#### *1. Give a formal definition of consistent directed PGM estimation. Write some state-of-the-art on that topic, choose one of the references therein, justifying your choice. Provide a one-page description of the approach developed in that reference.*"
   ]
  },
  {
   "cell_type": "code",
   "execution_count": null,
   "metadata": {
    "collapsed": true
   },
   "outputs": [],
   "source": []
  },
  {
   "cell_type": "markdown",
   "metadata": {},
   "source": [
    "#### *2. Apply the chosen approach to the asset returns data set. Compare it with the results of hc in part 2.1.2. Use ci.test to try to evaluate the relevance of proposals for edges where both methods yield different results.*"
   ]
  },
  {
   "cell_type": "code",
   "execution_count": null,
   "metadata": {
    "collapsed": true
   },
   "outputs": [],
   "source": []
  },
  {
   "cell_type": "markdown",
   "metadata": {},
   "source": [
    "## *2.3 Optional additional questions*"
   ]
  },
  {
   "cell_type": "markdown",
   "metadata": {},
   "source": [
    "#### *1. Imagine, describe and implement a protocol to evaluate consistency of any arbitrary directed PGM estimation method. Test this protocol on the method chosen in part 2.2 and provide the result. What is your conclusion? What is the effect of the number of variables?*"
   ]
  },
  {
   "cell_type": "code",
   "execution_count": null,
   "metadata": {
    "collapsed": true
   },
   "outputs": [],
   "source": []
  },
  {
   "cell_type": "markdown",
   "metadata": {},
   "source": [
    "#### *2. What are the assumption of the method chosen in part 2.2? Check as many assumptions as you can on the asset returns data set.*"
   ]
  },
  {
   "cell_type": "code",
   "execution_count": null,
   "metadata": {
    "collapsed": true
   },
   "outputs": [],
   "source": []
  },
  {
   "cell_type": "markdown",
   "metadata": {},
   "source": [
    "#### *3. Define and simulate some 4-variable model that cannot have a perfect directed map. Estimate a directed PGM using the method chosen in part 2.2. What do you obtain? Why? (How to interpret this result?)*"
   ]
  },
  {
   "cell_type": "code",
   "execution_count": null,
   "metadata": {
    "collapsed": true
   },
   "outputs": [],
   "source": []
  },
  {
   "cell_type": "markdown",
   "metadata": {},
   "source": [
    "#### *4. If two methods claim to be consistent but yield different DAGs on a same data set, how would you used both graph to propose a new graph? What would the expected properties of that graph be?*"
   ]
  },
  {
   "cell_type": "code",
   "execution_count": null,
   "metadata": {
    "collapsed": true
   },
   "outputs": [],
   "source": []
  }
 ],
 "metadata": {
  "anaconda-cloud": {},
  "kernelspec": {
   "display_name": "R",
   "language": "R",
   "name": "ir"
  },
  "language_info": {
   "codemirror_mode": "r",
   "file_extension": ".r",
   "mimetype": "text/x-r-source",
   "name": "R",
   "pygments_lexer": "r",
   "version": "3.4.1"
  }
 },
 "nbformat": 4,
 "nbformat_minor": 2
}
